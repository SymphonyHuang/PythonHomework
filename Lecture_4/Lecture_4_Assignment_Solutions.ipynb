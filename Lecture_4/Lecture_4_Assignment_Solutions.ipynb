{
 "cells": [
  {
   "cell_type": "markdown",
   "metadata": {},
   "source": [
    "# Tutorial/Assignment 4"
   ]
  },
  {
   "cell_type": "code",
   "execution_count": 2,
   "metadata": {},
   "outputs": [],
   "source": [
    "# Load the packages you will need\n",
    "import numpy as np\n",
    "import scipy as sp\n",
    "import scipy.optimize\n",
    "import scipy.stats\n",
    "import matplotlib.pyplot as plt"
   ]
  },
  {
   "cell_type": "markdown",
   "metadata": {},
   "source": [
    "## Fitting to a distribution"
   ]
  },
  {
   "cell_type": "code",
   "execution_count": 3,
   "metadata": {},
   "outputs": [],
   "source": [
    "np.random.seed(112)\n",
    "\n",
    "# Create a normal distribution from scipy stats with mean 0 and standard deviation 1\n",
    "distr = sp.stats.norm(0, 1)\n",
    "\n",
    "# Sample the distribution 1000 times (rvs means random variates)\n",
    "vals = distr.rvs(1000)"
   ]
  },
  {
   "cell_type": "markdown",
   "metadata": {},
   "source": [
    "Use the NumPy histogram function to create an array of counts and bins.\n",
    "\n",
    "https://docs.scipy.org/doc/numpy/reference/generated/numpy.histogram.html\n",
    "\n",
    "Note how the length of the bins array is one more than the number of elements in the counts array. This is because NumPy returns the bin edges.\n",
    "\n",
    "For this part of the problem use 20 bins."
   ]
  },
  {
   "cell_type": "code",
   "execution_count": 4,
   "metadata": {},
   "outputs": [
    {
     "data": {
      "text/plain": [
       "array([-3.34267418, -3.02042566, -2.69817714, -2.37592862, -2.0536801 ,\n",
       "       -1.73143158, -1.40918305, -1.08693453, -0.76468601, -0.44243749,\n",
       "       -0.12018897,  0.20205955,  0.52430807,  0.84655659,  1.16880512,\n",
       "        1.49105364,  1.81330216,  2.13555068,  2.4577992 ,  2.78004772,\n",
       "        3.10229624])"
      ]
     },
     "execution_count": 4,
     "metadata": {},
     "output_type": "execute_result"
    }
   ],
   "source": [
    "counts, bins = np.histogram(vals, bins=20)\n",
    "counts\n",
    "bins"
   ]
  },
  {
   "cell_type": "code",
   "execution_count": 4,
   "metadata": {},
   "outputs": [
    {
     "data": {
      "text/plain": [
       "<BarContainer object of 20 artists>"
      ]
     },
     "execution_count": 4,
     "metadata": {},
     "output_type": "execute_result"
    },
    {
     "data": {
      "image/png": "[encoded data removed]",
      "text/plain": [
       "<Figure size 432x288 with 1 Axes>"
      ]
     },
     "metadata": {
      "needs_background": "light"
     },
     "output_type": "display_data"
    }
   ],
   "source": [
    "# In order to take the output from the NumPy histogram function and plot it as a histogram\n",
    "# we need to use the bin edges, and the difference between bin edges as the width.\n",
    "\n",
    "# If you used the variable name 'counts' and 'bins' in the previous step then the plot will run correctly.\n",
    "plt.bar(bins[:-1], counts, align='edge', width=np.diff(bins))"
   ]
  },
  {
   "cell_type": "markdown",
   "metadata": {},
   "source": [
    "Define the model function\n",
    "\n",
    "$$y(x) = \\frac{A}{\\sigma\\sqrt{2\\pi}}\\exp\\left(-\\frac{(x-\\mu)^2}{2\\sigma^2}\\right)$$"
   ]
  },
  {
   "cell_type": "code",
   "execution_count": 1,
   "metadata": {},
   "outputs": [],
   "source": [
    "def model(x, A, mu, sigma):\n",
    "    return A/((np.pi*2)**0.5*sigma)*np.exp(-(x - mu)**2/(2*sigma**2))"
   ]
  },
  {
   "cell_type": "markdown",
   "metadata": {},
   "source": [
    "Plot the model on top of the data with some initial set of parameters.\n",
    "\n",
    "For the uncertainties take the square root of the bin height. **Be careful about bins that don't have any data in them as the uncertainty is zero. To fix this, assign a finite uncertainty using the `np.where` function.**\n",
    "\n",
    "https://docs.scipy.org/doc/numpy/reference/generated/numpy.where.html"
   ]
  },
  {
   "cell_type": "code",
   "execution_count": 5,
   "metadata": {},
   "outputs": [
    {
     "data": {
      "text/plain": [
       "[<matplotlib.lines.Line2D at 0x7f4305ff53c8>]"
      ]
     },
     "execution_count": 5,
     "metadata": {},
     "output_type": "execute_result"
    },
    {
     "data": {
      "image/png": "[encoded data removed]",
      "text/plain": [
       "<Figure size 432x288 with 1 Axes>"
      ]
     },
     "metadata": {
      "needs_background": "light"
     },
     "output_type": "display_data"
    }
   ],
   "source": [
    "# If we just take counts**0.5 the uncertainty is 0 in any bin that has zero counts.\n",
    "# This will cause a division by zero and the fit will fail.\n",
    "# To fix this, assign an uncertainty of 1 whenever counts is 0.\n",
    "y_err = np.where(counts == 0, 1, counts**0.5)\n",
    "\n",
    "plt.bar(bins[:-1], counts, align='edge', width=np.diff(bins))\n",
    "\n",
    "bin_centers = (bins[1:] + bins[:-1])/2  # The errorbar will be shown at the center of the bin\n",
    "# Note the use of the space after 'k' in the format to indicate we don't want any line or marker\n",
    "plt.errorbar(bin_centers, counts, yerr=y_err, fmt='k ', capsize=3)  \n",
    "\n",
    "x = np.linspace(bins[0], bins[-1], 100)\n",
    "plt.plot(x, model(x, 300, 0, 1), zorder=10, c='C1')"
   ]
  },
  {
   "cell_type": "markdown",
   "metadata": {},
   "source": [
    "Fit to the data with your model."
   ]
  },
  {
   "cell_type": "code",
   "execution_count": 6,
   "metadata": {},
   "outputs": [
    {
     "data": {
      "text/plain": [
       "array([3.16829379e+02, 8.66509439e-04, 9.98885345e-01])"
      ]
     },
     "execution_count": 6,
     "metadata": {},
     "output_type": "execute_result"
    }
   ],
   "source": [
    "pOpt, pCov = sp.optimize.curve_fit(model, bin_centers, counts, p0=(300, 0, 1.0), \n",
    "                                   sigma=y_err, absolute_sigma=True)\n",
    "\n",
    "pOpt"
   ]
  },
  {
   "cell_type": "markdown",
   "metadata": {},
   "source": [
    "Plot the fit on top of the data"
   ]
  },
  {
   "cell_type": "code",
   "execution_count": 7,
   "metadata": {},
   "outputs": [
    {
     "data": {
      "text/plain": [
       "[<matplotlib.lines.Line2D at 0x7f4305ec7400>]"
      ]
     },
     "execution_count": 7,
     "metadata": {},
     "output_type": "execute_result"
    },
    {
     "data": {
      "image/png": "[encoded data removed]",
      "text/plain": [
       "<Figure size 432x288 with 1 Axes>"
      ]
     },
     "metadata": {
      "needs_background": "light"
     },
     "output_type": "display_data"
    }
   ],
   "source": [
    "plt.bar(bins[:-1], counts, align='edge', width=np.diff(bins))\n",
    "\n",
    "bin_centers = (bins[1:] + bins[:-1])/2  # The errorbar will be shown at the center of the bin\n",
    "# Note the use of the space after 'k' in the format to indicate we don't want any line or marker\n",
    "plt.errorbar(bin_centers, counts, yerr=y_err, fmt='k ', capsize=3)  \n",
    "\n",
    "x = np.linspace(bins[0], bins[-1], 100)\n",
    "plt.plot(x, model(x, *pOpt), zorder=10, c='C1')"
   ]
  },
  {
   "cell_type": "markdown",
   "metadata": {},
   "source": [
    "Print the parameter estimates, their uncertainties, and check for correlations between the parameters."
   ]
  },
  {
   "cell_type": "code",
   "execution_count": 8,
   "metadata": {},
   "outputs": [
    {
     "name": "stdout",
     "output_type": "stream",
     "text": [
      "[3.16829379e+02 8.66509439e-04 9.98885345e-01]\n",
      "[[10.11150396  0.03229806  0.02332548]]\n",
      "[[1.         0.00285047 0.01077915]\n",
      " [0.00285047 1.         0.10755509]\n",
      " [0.01077915 0.10755509 1.        ]]\n"
     ]
    },
    {
     "data": {
      "text/plain": [
       "<matplotlib.colorbar.Colorbar at 0x7f4305e5f978>"
      ]
     },
     "execution_count": 8,
     "metadata": {},
     "output_type": "execute_result"
    },
    {
     "data": {
      "image/png": "[encoded data removed]",
      "text/plain": [
       "<Figure size 432x288 with 2 Axes>"
      ]
     },
     "metadata": {
      "needs_background": "light"
     },
     "output_type": "display_data"
    }
   ],
   "source": [
    "print(pOpt)\n",
    "\n",
    "errs = np.sqrt(pCov.diagonal()).reshape((1, -1))\n",
    "print(errs)\n",
    "\n",
    "corr = pCov/(errs.T@errs)\n",
    "print(corr)\n",
    "\n",
    "plt.imshow(corr, vmin=-1, vmax=1, cmap='RdBu_r')\n",
    "plt.colorbar()"
   ]
  },
  {
   "cell_type": "markdown",
   "metadata": {},
   "source": [
    "## Bin widths\n",
    "\n",
    "Re-do the above analysis, but now use a different number of bins. Does the number of bins affect your results? Try some extreme values."
   ]
  },
  {
   "cell_type": "code",
   "execution_count": 10,
   "metadata": {},
   "outputs": [
    {
     "data": {
      "image/png": "[encoded data removed]",
      "text/plain": [
       "<Figure size 432x288 with 1 Axes>"
      ]
     },
     "metadata": {
      "needs_background": "light"
     },
     "output_type": "display_data"
    },
    {
     "name": "stdout",
     "output_type": "stream",
     "text": [
      "[ 1.61365764e+03 -8.17688150e-03  1.12448045e+00]\n",
      "[[5.10505324e+01 3.60071735e-02 2.71869934e-02]]\n",
      "[[1.         0.00294968 0.01600076]\n",
      " [0.00294968 1.         0.05846289]\n",
      " [0.01600076 0.05846289 1.        ]]\n"
     ]
    },
    {
     "data": {
      "image/png": "[encoded data removed]",
      "text/plain": [
       "<Figure size 432x288 with 2 Axes>"
      ]
     },
     "metadata": {
      "needs_background": "light"
     },
     "output_type": "display_data"
    }
   ],
   "source": [
    "num_bins = 4\n",
    "counts, bins = np.histogram(vals, bins=num_bins)\n",
    "bin_centers = (bins[1:] + bins[:-1])/2\n",
    "y_err = np.where(counts == 0, 1, counts**0.5)\n",
    "\n",
    "# Fit the data\n",
    "pOpt, pCov = sp.optimize.curve_fit(model, bin_centers, counts, p0=(100, 0, 1.0), \n",
    "                                   sigma=y_err, absolute_sigma=True)\n",
    "\n",
    "\n",
    "# Create the plot of the fit\n",
    "plt.bar(bins[:-1], counts, align='edge', width=np.diff(bins))\n",
    "bin_centers = (bins[1:] + bins[:-1])/2  # The errorbar will be shown at the center of the bin\n",
    "# Note the use of the space after 'k' in the format to indicate we don't want any line or marker\n",
    "plt.errorbar(bin_centers, counts, yerr=y_err, fmt='k ', capsize=3)  \n",
    "\n",
    "x = np.linspace(bins[0], bins[-1], 100)\n",
    "plt.plot(x, model(x, *pOpt), zorder=10, c='C1')\n",
    "plt.title(f'Num bins: {num_bins}')\n",
    "plt.show()\n",
    "\n",
    "# Interpret the results\n",
    "print(pOpt)\n",
    "\n",
    "errs = np.sqrt(pCov.diagonal()).reshape((1, -1))\n",
    "print(errs)\n",
    "\n",
    "corr = pCov/(errs.T@errs)\n",
    "print(corr)\n",
    "\n",
    "plt.imshow(corr, vmin=-1, vmax=1, cmap='RdBu_r')\n",
    "plt.colorbar()\n",
    "plt.show()"
   ]
  },
  {
   "cell_type": "markdown",
   "metadata": {},
   "source": [
    "## Fitting to 2d data\n",
    "\n",
    "Load the 'Nelson.csv' file (from https://www.itl.nist.gov/div898/strd/nls/data/LINKS/v-nelson.shtml) and fit it with this function:\n",
    "\n",
    "$$\\log(z(x, y)) = -a_1 - a_2x\\exp(-a_3 y)$$\n",
    "\n",
    "The expected values for the parameters are:\n",
    "\n",
    "a_1 = 2.5906836021E+00 +/- 1.9149996413E-02\n",
    "\n",
    "a_2 = 5.6177717026E-09 +/- 6.1124096540E-09\n",
    "\n",
    "a_3 = -5.7701013174E-02 +/- 3.9572366543E-03"
   ]
  },
  {
   "cell_type": "markdown",
   "metadata": {},
   "source": [
    "Load the data into x, y, z components"
   ]
  },
  {
   "cell_type": "code",
   "execution_count": 9,
   "metadata": {},
   "outputs": [],
   "source": [
    "x_data, y_data, z_data = np.genfromtxt('Nelson.csv', delimiter=',', unpack=True)"
   ]
  },
  {
   "cell_type": "markdown",
   "metadata": {},
   "source": [
    "Define the model. Note that the model function still expects a single parameter to be used for the independent variables, so you must pass it an array."
   ]
  },
  {
   "cell_type": "code",
   "execution_count": 10,
   "metadata": {},
   "outputs": [],
   "source": [
    "def model(v, a1, a2, a3):\n",
    "    return a1 - a2*v[0]*np.exp(-a3*v[1])"
   ]
  },
  {
   "cell_type": "markdown",
   "metadata": {},
   "source": [
    "Fit the data. Use as your starting parameters (a1, a2, a3) = (2.5, 5e-9, 1e-2).\n",
    "\n",
    "You will need to pass both the x and y data simultaneously. See the `xdata` part of the documentation for more details: https://docs.scipy.org/doc/scipy/reference/generated/scipy.optimize.curve_fit.html"
   ]
  },
  {
   "cell_type": "code",
   "execution_count": 11,
   "metadata": {},
   "outputs": [
    {
     "name": "stderr",
     "output_type": "stream",
     "text": [
      "/opt/conda/lib/python3.6/site-packages/ipykernel_launcher.py:2: RuntimeWarning: overflow encountered in exp\n",
      "  \n"
     ]
    }
   ],
   "source": [
    "pOpt, pCov = sp.optimize.curve_fit(model, [x_data, y_data], np.log(z_data), p0=(2.5, 5e-9, 1e-2))"
   ]
  },
  {
   "cell_type": "markdown",
   "metadata": {},
   "source": [
    "Check that you get the correct parameter estimates:\n",
    "\n",
    "a_1 = 2.5906836021E+00 +/- 1.9149996413E-02\n",
    "\n",
    "a_2 = 5.6177717026E-09 +/- 6.1124096540E-09\n",
    "\n",
    "a_3 = -5.7701013174E-02 +/- 3.9572366543E-03"
   ]
  },
  {
   "cell_type": "code",
   "execution_count": 12,
   "metadata": {},
   "outputs": [
    {
     "name": "stdout",
     "output_type": "stream",
     "text": [
      "[ 2.59068360e+00  5.61777298e-09 -5.77010123e-02]\n"
     ]
    }
   ],
   "source": [
    "print(pOpt)"
   ]
  },
  {
   "cell_type": "markdown",
   "metadata": {},
   "source": [
    "Show the correlation matrix. Are there strong correlations between some of the parameters?"
   ]
  },
  {
   "cell_type": "code",
   "execution_count": 13,
   "metadata": {},
   "outputs": [
    {
     "name": "stdout",
     "output_type": "stream",
     "text": [
      "[[1.91500016e-02 6.11259388e-09 3.95721810e-03]]\n",
      "[[1.         0.4508595  0.44203902]\n",
      " [0.4508595  1.         0.99974645]\n",
      " [0.44203902 0.99974645 1.        ]]\n"
     ]
    },
    {
     "data": {
      "image/png": "[encoded data removed]",
      "text/plain": [
       "<Figure size 432x288 with 2 Axes>"
      ]
     },
     "metadata": {
      "needs_background": "light"
     },
     "output_type": "display_data"
    }
   ],
   "source": [
    "errs = np.sqrt(pCov.diagonal()).reshape((1, -1))\n",
    "print(errs)\n",
    "\n",
    "corr = pCov/(errs.T@errs)\n",
    "print(corr)\n",
    "\n",
    "plt.imshow(corr, vmin=-1, vmax=1, cmap='RdBu_r')\n",
    "plt.colorbar()\n",
    "plt.show()"
   ]
  },
  {
   "cell_type": "code",
   "execution_count": null,
   "metadata": {},
   "outputs": [],
   "source": []
  }
 ],
 "metadata": {
  "kernelspec": {
   "display_name": "Python 3",
   "language": "python",
   "name": "python3"
  },
  "language_info": {
   "codemirror_mode": {
    "name": "ipython",
    "version": 3
   },
   "file_extension": ".py",
   "mimetype": "text/x-python",
   "name": "python",
   "nbconvert_exporter": "python",
   "pygments_lexer": "ipython3",
   "version": "3.6.8"
  }
 },
 "nbformat": 4,
 "nbformat_minor": 2
}
